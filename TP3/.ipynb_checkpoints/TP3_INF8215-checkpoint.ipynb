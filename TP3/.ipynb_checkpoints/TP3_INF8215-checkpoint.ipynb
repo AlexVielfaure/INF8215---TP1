{
 "cells": [
  {
   "cell_type": "markdown",
   "metadata": {
    "colab_type": "text",
    "id": "5fHWJhwOXGzh"
   },
   "source": [
    "# INF8215 - Intelligence artif.: méthodes et algorithmes \n",
    "## Automne 2019 - TP3 - Apprentissage machine \n",
    "### Membres de l'équipe\n",
    "    - Alexandre Vielfaure\n",
    "    - Hatim Belgharbi\n",
    "    - Johan Ngounou\n",
    "\n",
    "Nom d'équipe sur Kaggle: Team Angel\n",
    "\n"
   ]
  },
  {
   "cell_type": "markdown",
   "metadata": {
    "colab_type": "text",
    "id": "TmGvqtSVgfXi"
   },
   "source": [
    "## Directives de remise\n",
    "Le travail sera réalisé avec la  même équipe que pour les TPs précédents. Vous remettrez ce fichier nommé TP3\\_NomDuMembre1\\_NomDuMembre2\\_NomDuMembre3.ipynb et vos fichiers de soumission csv dans la boîte de remise sur moodle. \n",
    "\n",
    "Tout devra être remis avant le **13 décembre à 23h55**. Tout travail en retard sera pénalisé d’une valeur de 10\\% par jour de retard.\n",
    "\n",
    "## Barème\n",
    "Partie 1: 9 points\n",
    "\n",
    "Partie 2: 9 points\n",
    "\n",
    "Partie 3: 2 points\n",
    "\n",
    "Bonus : 2 points\n",
    "\n",
    "Pour un total de 22 points possibles sur 20 points.\n"
   ]
  },
  {
   "cell_type": "markdown",
   "metadata": {
    "colab_type": "text",
    "id": "P1et8f3nXGzk"
   },
   "source": [
    "## Apprentissage machine\n",
    "L'apprentissage machine est un domaine de plus en plus exploré et exploité. Pouvoir faire des prédictions en se basant sur des données ouvre la porte à plein de possibilités pour faciliter la vie des gens. Par exemple, un modèle pourrait prédire si un patient souffre ou non d'une maladie en se basant sur des mesures de santé.\n",
    "\n",
    "### But\n",
    "Le but de ce TP est de vous donner un aperçu du déroulement général d'un projet de machine learning tout en vous familiarisant avec des librairies python adaptées.\n",
    "\n",
    "Dans la première partie, vous implémenterez un algorithme de classification multiclasse appelé **softmax regression** à l'aide uniquement de la bibliothèque **numpy** et l'intégrerez à la bibliothèque **scikit-learn**.\n",
    "\n",
    "Dans la deuxième partie, vous prendrez connaissance du **dataset** utilisé pour ce projet. Et vous serez amenés à effectuer le **preprocessing** de ces données pour qu'elles soient utilisables dans les algorithmes de machine learning classiques. Vous utiliserez les bibliothèques **pandas** et **scikit-learn**.\n",
    "\n",
    "Enfin, dans la troisième partie, vous comparerez l'efficacité du modèle que vous avez implémenté avec d'autres modèles déjà implémentés dans **sklearn**. Puis vous tenterez d'améliorer les performances de l'algorithme sélectionné.\n",
    "\n",
    "La dernière partie du TP est de soumettre vos prédictions sur **Kaggle**. Vous devez créer un compte et formez une équipe sur Kaggle: https://www.kaggle.com/. La compétition pour le TP se trouve à l'adresse suivante: https://www.kaggle.com/t/7e5ae1ae92d14e06b2560c9ac5602bf6.\n",
    "\n",
    "### Installation\n",
    "\n",
    "Pour installer **pandas** et **scikit-learn** le plus simple est de télécharger et d'installer **Anaconda**. Cet environnement python regroupe les packages les plus utilisés pour le calcul scientifique et la science des données. Vous pouvez aussi installer directement les packages avec pip.\n",
    "\n",
    "Assurez-vous d'avoir au moins la version **20.0** de **scikit-learn**.\n",
    "\n",
    "Vous trouverez la distribution d'anaconda ici : https://www.anaconda.com/download/ .\n"
   ]
  },
  {
   "cell_type": "markdown",
   "metadata": {
    "colab_type": "text",
    "id": "LYyOL7QAXGzm"
   },
   "source": [
    "## Bonus 1: Compétition (2 points)\n",
    "\n",
    "Lorsque vous soumettez vos résultats sur Kaggle, vous obtiendrez votre performance en terme de **Mean F-Score**. Votre score sera affiché sur le leaderboard publique de Kaggle.  Le top 10 sur le leaderboard privée recevront un bonus de 2pts. Vous pouvez soumettre plusieurs fois et choisir 2 soumissions pour être pris en compte pour le classement final. Attention de ne pas overfit sur les données de tests du classement publique."
   ]
  },
  {
   "cell_type": "markdown",
   "metadata": {
    "colab_type": "text",
    "id": "517JwzlPXGzp"
   },
   "source": [
    "# 1. Softmax Regression (12 points)\n",
    "\n",
    "Dans cette partie vous implémenterez **softmax regression** la généralisation de **logistic regression** qui permet d'effectuer de la classification pour un nombre de classe supérieur à 2.\n",
    "\n",
    "**Pour cet exercice, la contrainte est d'utiliser uniquement la bibliothèque numpy**\n",
    "\n",
    "## Encapsulation avec sklearn\n",
    "\n",
    "La classe **SoftmaxClassifier** hérite des classes **BaseEstimator** et **ClassifierMixin** de **scikit-learn** ce qui nous permettra d'utiliser facilement avec notre classifier les outils fournis par scikit-learn dans la suite du TP.\n",
    "\n",
    "Pour la compatibilité, le classifier doit implémenter obligatoirement les méthodes:\n",
    "\n",
    "* **fit**: responsable de l'entraînement du modèle\n",
    "* **predict_proba**: permet de prédire la probabilité de chaque classe pour chaque exemple du dataset fourni.\n",
    "* **predict**: permet de prédire la classe pour chaque exemple du dataset fourni.\n",
    "* **score**: permet de quantifier l'écart entre les classes prédites et les classes réelles pour le dataset fourni\n",
    "* **fit_predict**: permet de faire un fit et retourne les prédictions faites avec cet ensemble.\n",
    "\n",
    "\n",
    "## Train/Test set:\n",
    "\n",
    "Quand on veut tester les performances de l'apprentissage d'un algorithme de machine learning, on **ne le teste pas sur les données utilisées pour l'apprentissage**.\n",
    "\n",
    "En effet, ce qui nous intéresse c'est que notre algorithme soit **capable de généraliser** ses prédictions à des données qu'il n'a **jamais vu**.\n",
    "\n",
    "Pour illustrer, si on teste un algorithme sur les données d'entrainement, on teste sa capacité à **apprendre par coeur** le dataset et non à **généraliser**.\n",
    "\n",
    "Par conséquent, quand on reçoit un nouveau dataset, la première chose à faire et de le **diviser en deux parties**: un ensemble d'**entraînement** (**70-80%** du dataset) et un ensemble de **test**(**20-30%** du dataset).\n",
    "\n",
    "Tous les algorithmes de **traitement des données** et d'apprentissage devront être appris uniquement sur l'ensemble d'entraînement et appliqués ensuite sur l'ensemble de test.\n",
    "\n",
    "Cela garantit l'absence de connaissances préalables de l'ensemble de test lors de l'entrainement.\n",
    "\n",
    "## Gradient descent\n",
    "\n",
    "La descente de gradient est un algorithme qui permet trouver la solution optimale d'un certains nombre de problèmes. Le principe est le suivant: on définit une **fonction de coût J**  qui caractérise le problème.\n",
    "Cette fonction dépend d'un ensemble de paramètres $\\theta$. La descente de gradient cherche à **minimiser** la fonction de coût en **modifiant itérativement** les paramètres.\n",
    "\n",
    "### Gradient\n",
    "\n",
    "Le gradient de la fonction de coût pour un $\\theta$ donné, correspond à la direction dans laquelle il faut modifier $\\theta$ pour augmenter la valeur de la fonction de coût. Cela correspond donc à la dérivée de la fonction de coût.\n",
    "La fonction de coût est minimale quand le gradient est nul.\n",
    "\n",
    "Concrètement, on initialize $\\theta$ aléatoirement, et on effectue à chaque itération un pas pour réduire la fonction de coût jusqu'à convergence de l'algorithme à un minimum.\n",
    "\n",
    "### Learning rate\n",
    "\n",
    "Le taux d'apprentissage correspond à la taille du pas que l'on va effectuer dans la direction du gradient.\n",
    "Plus il est grand, plus la convergence est rapide mais il y a un risque que l'algorithme diverge.\n",
    "\n",
    "Plus il est petit, plus la convergence est lente.\n",
    "\n",
    "### Batch gradient descent\n",
    "\n",
    "Il existe plusieurs algorithmes de descente de gradient. Nous utiliserons Batch gradient descent.\n",
    "\n",
    "Dans cet algorithme, avant de mettre à jour $\\theta$, on calcule les gradients sur l'ensemble des exemples d'entraînement.\n",
    "\n",
    "### Epoch\n",
    "\n",
    "Il s'agit d'un pas de la descente de gradient, soit une mise à jour de gradient.\n",
    "\n",
    "### Bias/Variance tradeoff\n",
    "\n",
    "Lorsqu'on entraine un algorithme de machine learning on cherche un équilibre entre **biais** et **variance**.\n",
    "\n",
    "Un modèle avec un **biais fort**, est un modèle qui est **trop simple** pour la structure donnée considérée (modèle linéaire pour données quadratiques), cela limite la capacité du modèle à généraliser. On appelle aussi le biais **underfitting**.\n",
    "\n",
    "Un modèle avec une **variance élevée** signifie qu'il est sensible aux petites variations dans les données d'entrainement, cela correspond à l'**overfitting**, c'est-à-dire que le modèle est trop proche de la structure de l'ensemble d'entrainement ce qui **limite sa capacité à généraliser**.\n",
    "\n",
    "Un modèle avec un **biais important** aura une **mauvaise performance** sur l'ensemble d'**entraînement**.\n",
    "Un modèle avec une **variance importante** aura une performance bien **moins bonne** sur l'ensemble de **test** que sur l'ensemble d'**entrainement**.\n",
    "\n",
    "Le classifier **SoftmaxRegression** contient les champs suivants:\n",
    "\n",
    "- `lr` : le rythme d'apprentissage pour la mise à jour des points lors de la descente du gradient;\n",
    "- `n_epochs`: le nombre d'itérations;\n",
    "- `eps`: le seuil pour garder les probabilités dans l'intervalle [self.eps;1.-self.eps];\n",
    "- `threshold`: seuil d'arrèt pour le early stopping;\n",
    "- `early_stopping`: active le early stopping\n",
    "- `nb_features`: le nombre d'attributs pour chaque instance\n",
    "- `nb_classes`: le nombre de classes possible pour le dataset\n",
    "- `theta_`:  la matrice de poids"
   ]
  },
  {
   "cell_type": "code",
   "execution_count": 26,
   "metadata": {
    "colab": {},
    "colab_type": "code",
    "id": "UhACgVBXAcUW"
   },
   "outputs": [],
   "source": [
    "import numpy as np\n",
    "import math\n",
    "import copy\n",
    "import pandas as pd\n",
    "import random\n",
    "from sklearn.base import BaseEstimator, ClassifierMixin\n",
    "\n",
    "class SoftmaxClassifier(BaseEstimator, ClassifierMixin):  \n",
    "\n",
    "    def __init__(self, lr = 0.1, alpha = 100, n_epochs = 1000, eps = 1.0e-5,threshold = 1.0e-10 , early_stopping = True):\n",
    "       \n",
    "        self.lr = lr \n",
    "        self.alpha = alpha\n",
    "        self.n_epochs = n_epochs\n",
    "        self.eps = eps\n",
    "        self.threshold = threshold\n",
    "        self.early_stopping = early_stopping\n",
    "        \n",
    "\n",
    "\n",
    "    \"\"\"\n",
    "        In:\n",
    "        X : l'ensemble d'exemple de taille nb_example x nb_features\n",
    "        y : l'ensemble d'étiquette de taille nb_example x 1\n",
    "\n",
    "        Principe:\n",
    "        Initialiser la matrice de poids\n",
    "        Ajouter une colonne de bias à X\n",
    "        Pour chaque epoch\n",
    "            calculer les probabilités\n",
    "            calculer le log loss\n",
    "            calculer le gradient\n",
    "            mettre à jouer les poids\n",
    "            sauvegarder le loss\n",
    "            tester pour early stopping\n",
    "\n",
    "        Out:\n",
    "        self, in sklearn the fit method returns the object itself\n",
    "    \"\"\"\n",
    "\n",
    "    def fit(self, X, y=None):\n",
    "        \n",
    "        prev_loss = np.inf\n",
    "        self.losses_ = []\n",
    "\n",
    "        self.nb_feature = X.shape[1]\n",
    "        self.nb_classes = np.max(y) + 1\n",
    "\n",
    "        #print(np.ones((X.shape[0],1)).shape)\n",
    "        #print(X.shape)\n",
    "        X_bias = np.concatenate([np.ones((X.shape[0],1)), X], axis=1)   \n",
    "        \n",
    "        self.theta_  = np.random.rand(self.nb_feature + 1, self.nb_classes)\n",
    "        \n",
    "#        z = np.dot(X_bias,self.theta_) # un vecteur de dimension K qui correspond aux logits associés à x pour chacune des classes\n",
    "\n",
    "        for epoch in range( self.n_epochs):\n",
    "\n",
    "            probabilities =  self.predict_proba(X_bias,y)\n",
    "            \n",
    "            loss = self._cost_function(probabilities, y)            \n",
    "            self.theta_ = self.theta_ - (self.lr * self._get_gradient(X_bias,y, probabilities))\n",
    "\n",
    "            if self.early_stopping:\n",
    "                if np.abs(loss - prev_loss) < self.threshold:\n",
    "                    break\n",
    "\n",
    "            prev_loss = loss\n",
    "            \n",
    "        return self\n",
    "\n",
    "\n",
    "    def predict_proba(self, X, y=None):\n",
    "        try:\n",
    "            getattr(self, \"theta_\")\n",
    "        except AttributeError:\n",
    "            raise RuntimeError(\"You must train classifer before predicting data!\")\n",
    "        #X_bias = np.concatenate(np.ones((X.shape[0],1)), X, axis=1)\n",
    "        z = np.dot(X,self.theta_)\n",
    "        \n",
    "        p = self._softmax(z)\n",
    "        \n",
    "        return p\n",
    "\n",
    "    \n",
    "    def predict(self, X, y=None):\n",
    "        try:\n",
    "            getattr(self, \"theta_\")\n",
    "        except AttributeError:\n",
    "            raise RuntimeError(\"You must train classifer before predicting data!\")\n",
    "        X_bias = np.concatenate([np.ones((X.shape[0],1)), X], axis=1)\n",
    "        p = self.predict_proba(X_bias)\n",
    "        \n",
    "        best_classes = np.argmax(p, axis = 1)\n",
    "        \n",
    "        return best_classes\n",
    "\n",
    "    \n",
    "    def fit_predict(self, X, y=None):\n",
    "        self.fit(X, y)\n",
    "        return self.predict(X,y)\n",
    " \n",
    "\n",
    "    def score(self, X, y=None):\n",
    "        probabilities = self.predict_proba(X, y)\n",
    "        log_loss = self._cost_function(probabilities, y)\n",
    "        return log_loss\n",
    "    \n",
    "    \n",
    "    def _cost_function(self,probabilities, y): \n",
    "        probabilities = np.clip(probabilities,self.eps,1-self.eps)\n",
    "        new_y = self._one_hot(y)\n",
    "        cost = new_y * np.log(probabilities)\n",
    "        cost = cost.sum(axis = 1)\n",
    "        cost = cost.sum(axis = 0)\n",
    "        cost = -1 * cost / probabilities.shape[0]\n",
    "        return cost\n",
    "    \n",
    "\n",
    "    def _one_hot(self,y):\n",
    "        y_ohe = np.zeros((y.shape[0],self.nb_classes))\n",
    "        for i,j in enumerate(y):\n",
    "            y_ohe[i,j] = 1\n",
    "        return y_ohe\n",
    "\n",
    "    \n",
    "    def _softmax(self,z):\n",
    "        \n",
    "        p = np.exp(z).T                     # Transpose to sum on rows\n",
    "        p = (p / p.sum(axis = 0)).T\n",
    "        \n",
    "        return p\n",
    "\n",
    "\n",
    "    def _get_gradient(self,X_bias,y, probas):\n",
    "        gradient = (X_bias.T @ (probas-self._one_hot(y))) / X_bias.shape[0]\n",
    "        return gradient"
   ]
  },
  {
   "cell_type": "markdown",
   "metadata": {
    "colab_type": "text",
    "id": "Yv83c1sWXGzq"
   },
   "source": [
    "### 1.1 One-hot-encoding (1 point)\n",
    "\n",
    "En machine learning pour représenter un vecteur de données catégoriques, on utilise le one-hot encoding.\n",
    "\n",
    "Pour un vecteur comportant 5 exemples et 3 catégories différentes, on le représente sous forme d'une matrice de taille 5 par 3. Cette matrice est entièrement remplie de 0 sauf à l'indice correspondant au numéro de la classe pour chaque exemple.\n",
    "\n",
    "\n",
    "Par exemple\n",
    "$ y = \\left(\\begin{array}{cc} \n",
    "0 \\\\\n",
    "0 \\\\\n",
    "1 \\\\\n",
    "2 \\\\\n",
    "1 \\\\\n",
    "\\end{array}\\right) $\n",
    "\n",
    "devient:\n",
    "\n",
    "$ yohe =  \\left(\\begin{array}{cc} \n",
    "1. & 0. & 0.\\\\\n",
    "1. & 0. & 0.\\\\\n",
    "0. & 1. & 0.\\\\\n",
    "0. & 0. & 1.\\\\\n",
    "0. & 1. & 0.\\\\\n",
    "\\end{array}\\right) $\n",
    "\n",
    "\n",
    "#### Implémentation\n",
    "1. Implémentez  la fonction  *`_one_hot()`*  dans SoftmaxClassifier. \n",
    "\n",
    "Utilisez la fonction _testOneHot_ pour vérifier votre implémentation de la fonction. Vous devriez avoir ces résultats:\n",
    "```\n",
    "Premier test\n",
    "[[1. 0. 0. 0. 0. 0.]\n",
    " [0. 1. 0. 0. 0. 0.]\n",
    " [0. 0. 1. 0. 0. 0.]\n",
    " [0. 0. 0. 1. 0. 0.]\n",
    " [0. 0. 0. 0. 1. 0.]\n",
    " [0. 0. 0. 0. 0. 1.]]\n",
    "\n",
    "Deuxième test\n",
    "[[0. 0. 0. 0. 0. 1.]\n",
    " [0. 0. 0. 0. 0. 1.]\n",
    " [0. 0. 0. 0. 0. 1.]\n",
    " [0. 0. 0. 0. 0. 1.]]\n",
    "\n",
    " Troisième test\n",
    "[[1. 0. 0. 0. 0. 0.]\n",
    " [1. 0. 0. 0. 0. 0.]\n",
    " [1. 0. 0. 0. 0. 0.]\n",
    " [1. 0. 0. 0. 0. 0.]]\n",
    " ```"
   ]
  },
  {
   "cell_type": "code",
   "execution_count": 27,
   "metadata": {
    "colab": {
     "base_uri": "https://localhost:8080/",
     "height": 336
    },
    "colab_type": "code",
    "executionInfo": {
     "elapsed": 607,
     "status": "ok",
     "timestamp": 1572273158769,
     "user": {
      "displayName": "Kim Thuyen Ton",
      "photoUrl": "https://lh3.googleusercontent.com/a-/AAuE7mBg1xy2-8526x-b1HLCbT16SZlMsjmtKfyoHRgghw=s64",
      "userId": "10674693358177584608"
     },
     "user_tz": 240
    },
    "id": "HEwBsNVsjvfs",
    "outputId": "aedf1752-21aa-49b8-e31b-8892f3f5e2e6"
   },
   "outputs": [
    {
     "name": "stdout",
     "output_type": "stream",
     "text": [
      "Premier test\n",
      "[[1. 0. 0. 0. 0. 0.]\n",
      " [0. 1. 0. 0. 0. 0.]\n",
      " [0. 0. 1. 0. 0. 0.]\n",
      " [0. 0. 0. 1. 0. 0.]\n",
      " [0. 0. 0. 0. 1. 0.]\n",
      " [0. 0. 0. 0. 0. 1.]]\n",
      "\n",
      "Deuxième test\n",
      "[[0. 0. 0. 0. 0. 1.]\n",
      " [0. 0. 0. 0. 0. 1.]\n",
      " [0. 0. 0. 0. 0. 1.]\n",
      " [0. 0. 0. 0. 0. 1.]]\n",
      "\n",
      "Troisième test\n",
      "[[1. 0. 0. 0. 0. 0.]\n",
      " [1. 0. 0. 0. 0. 0.]\n",
      " [1. 0. 0. 0. 0. 0.]\n",
      " [1. 0. 0. 0. 0. 0.]]\n"
     ]
    }
   ],
   "source": [
    "def testOneHot():\n",
    "    softmax = SoftmaxClassifier()\n",
    "    softmax.nb_classes = 6 # les classes possibles sont donc 0-5\n",
    "\n",
    "    y1= np.array([0,1,2,3,4,5])\n",
    "    y1.shape = (6,1)\n",
    "    print('Premier test')\n",
    "    print(softmax._one_hot(y1))\n",
    "\n",
    "    y2 = np.array([5,5,5,5])\n",
    "    y2.shape = (4,1)\n",
    "    print('\\nDeuxième test')\n",
    "    print(softmax._one_hot(y2))\n",
    "\n",
    "    y3 = np.array([0,0,0,0])\n",
    "    y3.shape = (4,1)\n",
    "    print('\\nTroisième test')\n",
    "    print(softmax._one_hot(y3))\n",
    "\n",
    "\n",
    "testOneHot()"
   ]
  },
  {
   "cell_type": "markdown",
   "metadata": {
    "colab_type": "text",
    "id": "vwxvqYj4XGzu"
   },
   "source": [
    "### 1.2 Matrice de poids (1 point)\n",
    "\n",
    "Soit $ X_{m * n} $ la matrice d'exemple et $ \\Theta _{n*K} $ la matrice de poids avec:\n",
    "\n",
    "* **m** le nombre d'exemples\n",
    "* **n** le nombre de features\n",
    "* **k** le nombre de classes\n",
    "\n",
    "Il est d'usage d'ajouter une colonne supplémentaire à X. Cette colonne est remplie de 1 et se trouve au début de la matrice. Elle représente un biais. Pour prendre en compte ce changement, il faut aussi rajouter une ligne à la matrice $\\Theta$.\n",
    "\n",
    "On obtient X_bias$_{m*(n+1)}$ et $ \\Theta _{(n+1)*K} $\n",
    "\n",
    "\n",
    "Intuitivement, à chaque classe K est associée une colonne de $\\theta$.\n",
    "\n",
    "On note $\\theta_k$ le vecteur de dimension n+1 la colonne de poids associée à la prédiction de la classe k.\n",
    "\n",
    "$\\Theta$ = [$\\theta_0$,$\\theta_1$... $\\theta_k$]\n",
    "\n",
    "Ainsi $ z = x * \\Theta $ donne un vecteur de dimension K qui correspond aux **logits** associés à x pour chacune des classes.\n",
    "\n",
    "#### Implémentation\n",
    "1. Instanciez X_bias dans les fonctions  *`fit()`* et `predict_proba()`.\n",
    "2. initialisez $\\Theta$ aléatoirement dans la fonction  *`fit()`*.\n",
    "3. Instanciez aussi le nombre de features et de classe de SoftmaxClassifier dans la fonction  *`fit()`*.\n",
    "\n",
    "**Notez que votre fonction fit n'est pas encore complète.**"
   ]
  },
  {
   "cell_type": "markdown",
   "metadata": {
    "colab_type": "text",
    "id": "6UTIxaGIXGzz"
   },
   "source": [
    "### 1.3 Softmax (1 point)\n",
    "\n",
    "On veut convertir le vecteur de logits **z** obtenu dans la partie précédente, en un **vecteur de probabilité**.\n",
    "\n",
    "Pour cela on définit la **fonction softmax**:\n",
    "\n",
    "$$ \\hat{p_x}^k = softmax(z)_k = \\frac{exp(z_k)}{\\sum_{\\substack{1<j<K}} exp(z_j)} $$\n",
    "\n",
    "Intuitivement, pour un logit de z, $z_k$, on prend l'exponentielle de cette valeur et on la divise par la somme des exponentielles de chaque logit du vecteur **z**. On obtient  $\\hat{p_x}^k$ la probabilité que l'exemple **x** appartienne à la classe **k**.\n",
    "\n",
    "On réitère l'opération pour chaque logit du vecteur **z**. \n",
    "\n",
    "On obtient ainsi un vecteur de probabilités $\\hat{p_x}$ pour un exemple **x**. \n",
    "\n",
    "La division permet de rendre la somme des termes du vecteur $\\hat{p_x}$ égale à 1 ce qui est indispensable dans le cadre des probabilités.\n",
    "\n",
    "#### Implémentation\n",
    "1. Implémentez  la fonction  *`_softmax()`*  dans SoftmaxClassifier. "
   ]
  },
  {
   "cell_type": "markdown",
   "metadata": {
    "colab_type": "text",
    "id": "g5_N31uPXGz2"
   },
   "source": [
    "### 1.4 Prédictions (1 point)\n",
    "\n",
    "Maintenant que vous avez implémentée la fonction **_softmax**, vous pouvez implémenter  les fonctions  **predict_proba** et **predict**  dans SoftmaxClassifier. \n",
    "\n",
    "#### Implémentation\n",
    "1. Implémenter la fonction *`predict_proba()`* de la classe SoftmaxClassifier. Cette fonction retourne les probabilités associées à chaque classe pour chacune des instances à prédire.\n",
    "\n",
    "2. Implémenter la fonction *`predict()`* de la classe SoftmaxClassifier. Cette fonction retourne la classe avec la plus grande probabilité pour chacunes des intances à prédire."
   ]
  },
  {
   "cell_type": "markdown",
   "metadata": {
    "colab_type": "text",
    "id": "cj5Ghd5jXGz6"
   },
   "source": [
    "### 1.5 Fonction de coût Log loss (2 points)\n",
    "\n",
    "Soit la fonction de coût log loss (ou cross entropy):\n",
    "\n",
    "$$ J( \\Theta) = \\frac{-1}{m}\\sum_{\\substack{1<i<m}} \\sum_{\\substack{1<k<K}} y_k^i log( \\hat{p_k}^i ) $$\n",
    "\n",
    "avec:\n",
    "* **K** le nombre de classes\n",
    "* **m** le nombre d'exemples dans les données\n",
    "* $ \\hat{p_k}^i  $  la probabilité que l'exemple i soit de la classe k\n",
    "* $y_k^i$ vaut 1 si la classe cible de l'exemple i est k, 0 sinon\n",
    "\n",
    "Le coût correspond donc à la moyenne multiplié par -1 des sommes des multiplications des probabilités pour chaque classe pour chaque élement. Autrement dit, plus le coût est petit, plus les prédictions correspondent bien aux étiquettes.\n",
    "\n",
    "\n",
    "**Détail d'implémentation:** La fonction n'est pas définie pour des valeurs de probabilité de 0 ou 1. Il faut donc s'assurer que étant donné $\\epsilon$, les probabilités sont comprises dans [$\\epsilon$, 1. - $\\epsilon$].\n",
    "#### Implémentation\n",
    "1. Implémentez  la fonction  *`_cost_function()`*  dans SoftmaxClassifier en prenant en utilisant la variable self.eps. Utilisez le format one-hot pour représenter $y_k^i$.\n",
    "2.  Utilisez *`_cost_function()`* pour calculer la variable *`loss`* dans la fonction `fit()`"
   ]
  },
  {
   "cell_type": "markdown",
   "metadata": {
    "colab_type": "text",
    "id": "vODCJbRaXGz-"
   },
   "source": [
    "### 1.6 Gradient de la fonction de coût (1 point)\n",
    "\n",
    "Le **gradient de J** par rapport à la classe k (par rapport à $\\theta_k$) est :\n",
    "\n",
    "\n",
    "$$ \\Delta_{\\theta_k}J( \\Theta) = \\frac{1}{m} \\sum_{\\substack{1<i<m}}( \\hat{p_k}^i - y_k^i)x^i  $$\n",
    "\n",
    "avec:\n",
    "* **K** le nombre de classes\n",
    "* **m** le nombre d'exemples dans les données\n",
    "* $ \\hat{p_k}^i  $  la probabilité que l'exemple i soit de la classe k\n",
    "* $y_k^i$ vaut 1 si la classe cible de l'exemple i est k, 0 sinon\n",
    "\n",
    "Sous **forme matricielle**, on peut écrire le **gradient de J par rapport à $\\Theta$**:\n",
    "$$ \\Delta_J( \\Theta) = \\frac{1}{m} X_{bias}^T *( \\hat{p} - y_{ohe}) $$\n",
    "\n",
    "avec:\n",
    "* $\\hat{p}$ la matrice de probabilité prédite pour chaque example et pour chaque classe\n",
    "* $y_{ohe}$ la version one-hot de y\n",
    "* $X_{bias}^T$  la matrice transposée de $X_{bias}$\n",
    "* **\\*** le produit matriciel\n",
    "\n",
    "#### Implémentation\n",
    "1. Implémentez  la fonction  *`_get_gradient()`*  dans SoftmaxClassifier en vous basant sur la forme matricielle du gradient."
   ]
  },
  {
   "cell_type": "markdown",
   "metadata": {
    "colab_type": "text",
    "id": "Y5EOpj9TXG0B"
   },
   "source": [
    "### 1.7 Mise à jour des poids (1 point)\n",
    "\n",
    "Quand le gradient a été calculé, il faut mettre à jour les poids avec ces gradients.\n",
    "\n",
    "$$ \\Theta  = \\Theta - \\gamma \\Delta J( \\Theta) $$\n",
    "\n",
    "\n",
    "avec:\n",
    "* $\\Theta$ la matrice de poids\n",
    "* $\\gamma$  le taux d'apprentissage\n",
    "* $\\Delta J( \\Theta)$ le gradient de $J( \\Theta)$ selon $\\Theta$\n",
    "\n",
    "#### Implémentation\n",
    "1. Mettez à jour la variable **self.theta_** dans la fonction `fit()`  dans SoftmaxClassifier."
   ]
  },
  {
   "cell_type": "markdown",
   "metadata": {
    "colab_type": "text",
    "id": "9QrP9uYPXG0I"
   },
   "source": [
    "### 1.8 Évaluation (1 point)\n",
    "\n",
    "Quand on veut évaluer la performance du modèle **après entrainement**, on utilise la fonction de coût. Autrement dit, on compare les prédictions avec les vrais valeurs et calcule un score.\n",
    "\n",
    "#### Implémentation\n",
    "1. Implémentez la fonction `score()` qui permet d'évaluer la qualité de la prédiction **après entrainement** dans SoftmaxClassifier. Elle utilise le log loss comme métrique."
   ]
  },
  {
   "cell_type": "markdown",
   "metadata": {
    "colab_type": "text",
    "id": "Ewh3I_jEXG0N"
   },
   "source": [
    "### 1.9 Early stopping (1 point)\n",
    "\n",
    "Un trop grand nombre d'**epoch** peut résulter en **overfitting**.\n",
    "Pour pallier à ce problème, on peut utiliser le mécanisme d'**early stopping**.\n",
    "Il s'agit d'arrêter l'entraînement si la différence de la fonction de coût entre deux **epochs consécutives** est inférieure à un **seuil**.\n",
    "\n",
    "\n",
    "\n",
    "\n",
    "#### Implémentation\n",
    "\n",
    "1. Ajouter le mécanisme d'**early stopping**  quand le booléen **self.early_stopping** est vrai dans la fonction `fit()`. Le seuil est donné par la variable **self.threshold**."
   ]
  },
  {
   "cell_type": "markdown",
   "metadata": {
    "colab_type": "text",
    "id": "JdNEVRveXG0Q"
   },
   "source": [
    "### 1.10 Test de la solution (2 points)\n",
    "\n",
    "Le code ci-dessous importe le dataset de classification multiclasse **iris** disponible sur sklearn. Les données sont divisées en deux parties, l'ensemble d'entraînement et l'ensemble de test, puis elles sont normalisées.\n",
    "\n",
    "Le classifier est entrainé sur l'ensemble d'entrainement et testé sur l'ensemble de test.\n",
    "\n",
    "Le but de cette partie est juste de vérifier votre implémentation **quand vous êtes sûrs que votre code fonctionne**."
   ]
  },
  {
   "cell_type": "code",
   "execution_count": 28,
   "metadata": {
    "colab": {},
    "colab_type": "code",
    "id": "1-2UipMRXG0R"
   },
   "outputs": [],
   "source": [
    "import numpy as np\n",
    "from sklearn.datasets import load_iris\n",
    "from sklearn.model_selection import train_test_split\n",
    "from sklearn.preprocessing import StandardScaler\n",
    "\n",
    "# load dataset\n",
    "data,target =load_iris().data,load_iris().target\n",
    "\n",
    "# split data in train/test sets\n",
    "X_train, X_test, y_train, y_test = train_test_split( data, target, test_size=0.33, random_state=42)\n",
    "\n",
    "# standardize columns using normal distribution\n",
    "# fit on X_train and not on X_test to avoid Data Leakage\n",
    "s = StandardScaler()\n",
    "X_train = s.fit_transform(X_train)\n",
    "X_test = s.transform(X_test)"
   ]
  },
  {
   "cell_type": "code",
   "execution_count": 29,
   "metadata": {
    "colab": {},
    "colab_type": "code",
    "id": "8qnflIdzXG0T"
   },
   "outputs": [],
   "source": [
    "cl = SoftmaxClassifier()\n",
    "\n",
    "# train on X_train and not on X_test to avoid overfitting\n",
    "train_p = cl.fit_predict(X_train,y_train)\n",
    "test_p = cl.predict(X_test)"
   ]
  },
  {
   "cell_type": "markdown",
   "metadata": {
    "colab_type": "text",
    "id": "hFt-r3nQXG0V"
   },
   "source": [
    "Si vous obtenez des valeurs relativement proches pour l'ensemble de test et d'entrainement, et qu'elles sont au moins supérieures à 0.8, votre modèle devrait être correct"
   ]
  },
  {
   "cell_type": "code",
   "execution_count": 30,
   "metadata": {
    "colab": {},
    "colab_type": "code",
    "id": "GmqcqadpXG0W"
   },
   "outputs": [
    {
     "name": "stdout",
     "output_type": "stream",
     "text": [
      "train : (0.9729729729729729, 0.9714285714285714, 0.9709901198234182, None)\n",
      "test : (0.9791666666666666, 0.9791666666666666, 0.978494623655914, None)\n"
     ]
    }
   ],
   "source": [
    "from sklearn.metrics import precision_recall_fscore_support\n",
    "\n",
    "# display precision, recall and f1-score on train/test set\n",
    "print(\"train : \"+ str(precision_recall_fscore_support(y_train, train_p,average = \"macro\")))\n",
    "print(\"test : \"+ str(precision_recall_fscore_support(y_test, test_p,average = \"macro\")))"
   ]
  },
  {
   "cell_type": "markdown",
   "metadata": {
    "colab_type": "text",
    "id": "r3FmllqgXG0d"
   },
   "source": [
    "# 2. Data preprocessing (6 points)\n",
    "\n",
    "##  Kaggle \n",
    "Kaggle est un site dédié au machine learning. On y retrouve un grand nombre de dataset.\n",
    "Des compétitions sont organisées par des organisations. Ces dernières fournissent un dataset et un objectif. Les \"kagglers\" qui participent à ces compétitions soumettent leurs résultats en ligne. Il y a souvent des prix ou des emplois pour ceux qui obtiennent les meilleurs résultats.\n",
    "\n",
    "Il s'agit d'un bon moyen pour développer ses compétences en machine learning sur des vrais datasets.\n",
    "\n",
    "Vous devez créer un compte et formez une équipe sur Kaggle: https://www.kaggle.com/. La compétition pour le TP se trouve à l'adresse suivante: https://www.kaggle.com/c/tp3-inf8215-a19.\n",
    "\n",
    "\n",
    "## Income dataset\n",
    "Le dataset que nous utiliserons est le \"Income dataset\" disponible sur le site de la compétition. C'est une version modifiée du dataset \"Adult\" de UCI qui se trouve à cette adresse: https://archive.ics.uci.edu/ml/datasets/Adult.\n",
    "\n",
    "Il s'agit d'un problème de **classification binaire** du salaire de la personne. Le but est de prédire dans quel catégorie ils appartiennent:\n",
    "* $\\lt=50K$\n",
    "* $\\gt50K$\n",
    "\n",
    "Pour plus d'informations sur les données, lisez la description sur kaggle.\n",
    "\n",
    "## Déroulement d'un projet de machine learning\n",
    "\n",
    "Le but de la suite de ce TP est de vous faire étudier une version simplifiée d'un projet complet de machine learning:\n",
    "\n",
    "1. Nettoyage des données, traitement des valeurs manquantes\n",
    "2. Mise en forme des données pour pouvoir les utiliser dans les algorithmes de machine learning\n",
    "3. Feature engineering: transformation ou combinaison de features entre elles\n",
    "4. Comparaison des performances des différents choix effectués lors du traîtement des données\n",
    "5. Comparaison des performances de différents modèles (dont celui implémenté en première partie)\n",
    "6. Optimisation des hyper-paramètres\n",
    "\n",
    "## Scikit-learn\n",
    "http://scikit-learn.org/stable/\n",
    "\n",
    "Il s'agit d'une bibliothèque de machine learning et data mining, elle propose des outils pour l'analyse et le traîtement des données,  des algorithmes classiques de machine learning comme les réseaux de neuronnes, la régression logistique, les SVM ou autre, enfin des outils permettant de comparer les modèles entre eux comme la cross validation.\n",
    "\n",
    "## Pandas\n",
    "\n",
    "Une bibliothèque permettant de stocker des données et de les manipuler facilement\n",
    "\n",
    "Les deux éléments de base de pandas sont le dataframe et la serie.\n",
    "\n",
    "https://pandas.pydata.org/pandas-docs/version/0.23/generated/pandas.DataFrame.html\n",
    "\n",
    "## Data processing tutorial\n",
    "\n",
    "**Avant de continuer le TP**, familiarisez-vous avec le **pré-traitement des données**, **pandas** et **scikit-learn**, un tutoriel est disponible dans le fichier: **data_processing_tutorial.ipynb**"
   ]
  },
  {
   "cell_type": "markdown",
   "metadata": {
    "colab_type": "text",
    "id": "uJxSGCnOXG0e"
   },
   "source": [
    "## Dataset\n",
    "\n",
    "#### Chargement de l'ensemble d'entraînement et de l'ensemble de test"
   ]
  },
  {
   "cell_type": "code",
   "execution_count": 31,
   "metadata": {
    "colab": {},
    "colab_type": "code",
    "id": "KrmSiTseXG0f"
   },
   "outputs": [],
   "source": [
    "# SI ON CHOISI DE NE PAS TOUCHER AU DATASET, LE MENTIONNER\n",
    "# SI ON CHOISIT D'OMMETTRE UNE VARIABLE, LE MENTIONNER\n",
    "# 1ere LIGNE c'est le nom des colonnes pour la soumission sur Kagle\n",
    "import pandas as pd\n",
    "\n",
    "PATH = \"data/\" # changer le path avec votre path\n",
    "X_train = pd.read_csv(\"train.csv\")\n",
    "X_test = pd.read_csv(\"test.csv\")"
   ]
  },
  {
   "cell_type": "markdown",
   "metadata": {
    "colab_type": "text",
    "id": "996_M0-sXG0w"
   },
   "source": [
    "#### 5 premiers exemples de l'ensemble d'entraînement"
   ]
  },
  {
   "cell_type": "code",
   "execution_count": 32,
   "metadata": {
    "colab": {},
    "colab_type": "code",
    "id": "s2U3Xs73-rDr"
   },
   "outputs": [
    {
     "data": {
      "text/html": [
       "<div>\n",
       "<style scoped>\n",
       "    .dataframe tbody tr th:only-of-type {\n",
       "        vertical-align: middle;\n",
       "    }\n",
       "\n",
       "    .dataframe tbody tr th {\n",
       "        vertical-align: top;\n",
       "    }\n",
       "\n",
       "    .dataframe thead th {\n",
       "        text-align: right;\n",
       "    }\n",
       "</style>\n",
       "<table border=\"1\" class=\"dataframe\">\n",
       "  <thead>\n",
       "    <tr style=\"text-align: right;\">\n",
       "      <th></th>\n",
       "      <th>index</th>\n",
       "      <th>Age</th>\n",
       "      <th>Workclass</th>\n",
       "      <th>Final weight</th>\n",
       "      <th>Education</th>\n",
       "      <th>Marital-status</th>\n",
       "      <th>Occupation</th>\n",
       "      <th>Relationship</th>\n",
       "      <th>Sex</th>\n",
       "      <th>Capital-gain</th>\n",
       "      <th>Capital-loss</th>\n",
       "      <th>Hours per week</th>\n",
       "      <th>Native country</th>\n",
       "      <th>Income</th>\n",
       "    </tr>\n",
       "  </thead>\n",
       "  <tbody>\n",
       "    <tr>\n",
       "      <th>0</th>\n",
       "      <td>36721</td>\n",
       "      <td>36</td>\n",
       "      <td>Private</td>\n",
       "      <td>31023</td>\n",
       "      <td>Masters</td>\n",
       "      <td>Married-civ-spouse</td>\n",
       "      <td>Exec-managerial</td>\n",
       "      <td>Husband</td>\n",
       "      <td>Male</td>\n",
       "      <td>0</td>\n",
       "      <td>0</td>\n",
       "      <td>50</td>\n",
       "      <td>United-States</td>\n",
       "      <td>&gt;50K.</td>\n",
       "    </tr>\n",
       "    <tr>\n",
       "      <th>1</th>\n",
       "      <td>2638</td>\n",
       "      <td>52</td>\n",
       "      <td>?</td>\n",
       "      <td>159755</td>\n",
       "      <td>Assoc-voc</td>\n",
       "      <td>Married-civ-spouse</td>\n",
       "      <td>?</td>\n",
       "      <td>Husband</td>\n",
       "      <td>Male</td>\n",
       "      <td>0</td>\n",
       "      <td>0</td>\n",
       "      <td>50</td>\n",
       "      <td>United-States</td>\n",
       "      <td>&gt;50K</td>\n",
       "    </tr>\n",
       "    <tr>\n",
       "      <th>2</th>\n",
       "      <td>36214</td>\n",
       "      <td>36</td>\n",
       "      <td>Private</td>\n",
       "      <td>359001</td>\n",
       "      <td>Assoc-voc</td>\n",
       "      <td>Divorced</td>\n",
       "      <td>Craft-repair</td>\n",
       "      <td>Not-in-family</td>\n",
       "      <td>Male</td>\n",
       "      <td>0</td>\n",
       "      <td>0</td>\n",
       "      <td>40</td>\n",
       "      <td>United-States</td>\n",
       "      <td>&lt;=50K.</td>\n",
       "    </tr>\n",
       "    <tr>\n",
       "      <th>3</th>\n",
       "      <td>27010</td>\n",
       "      <td>42</td>\n",
       "      <td>Self-emp-inc</td>\n",
       "      <td>188615</td>\n",
       "      <td>Bachelors</td>\n",
       "      <td>Married-civ-spouse</td>\n",
       "      <td>Sales</td>\n",
       "      <td>Husband</td>\n",
       "      <td>Male</td>\n",
       "      <td>0</td>\n",
       "      <td>0</td>\n",
       "      <td>60</td>\n",
       "      <td>United-States</td>\n",
       "      <td>&gt;50K</td>\n",
       "    </tr>\n",
       "    <tr>\n",
       "      <th>4</th>\n",
       "      <td>27506</td>\n",
       "      <td>44</td>\n",
       "      <td>Private</td>\n",
       "      <td>43711</td>\n",
       "      <td>Bachelors</td>\n",
       "      <td>Never-married</td>\n",
       "      <td>Other-service</td>\n",
       "      <td>Not-in-family</td>\n",
       "      <td>Male</td>\n",
       "      <td>0</td>\n",
       "      <td>0</td>\n",
       "      <td>48</td>\n",
       "      <td>United-States</td>\n",
       "      <td>&lt;=50K</td>\n",
       "    </tr>\n",
       "  </tbody>\n",
       "</table>\n",
       "</div>"
      ],
      "text/plain": [
       "   index  Age      Workclass  Final weight   Education       Marital-status  \\\n",
       "0  36721   36        Private         31023     Masters   Married-civ-spouse   \n",
       "1   2638   52              ?        159755   Assoc-voc   Married-civ-spouse   \n",
       "2  36214   36        Private        359001   Assoc-voc             Divorced   \n",
       "3  27010   42   Self-emp-inc        188615   Bachelors   Married-civ-spouse   \n",
       "4  27506   44        Private         43711   Bachelors        Never-married   \n",
       "\n",
       "         Occupation    Relationship    Sex  Capital-gain  Capital-loss  \\\n",
       "0   Exec-managerial         Husband   Male             0             0   \n",
       "1                 ?         Husband   Male             0             0   \n",
       "2      Craft-repair   Not-in-family   Male             0             0   \n",
       "3             Sales         Husband   Male             0             0   \n",
       "4     Other-service   Not-in-family   Male             0             0   \n",
       "\n",
       "   Hours per week  Native country   Income  \n",
       "0              50   United-States    >50K.  \n",
       "1              50   United-States     >50K  \n",
       "2              40   United-States   <=50K.  \n",
       "3              60   United-States     >50K  \n",
       "4              48   United-States    <=50K  "
      ]
     },
     "execution_count": 32,
     "metadata": {},
     "output_type": "execute_result"
    }
   ],
   "source": [
    "X_train.head()"
   ]
  },
  {
   "cell_type": "markdown",
   "metadata": {
    "colab_type": "text",
    "id": "kSM01gVZXG0z"
   },
   "source": [
    "#### 5 premiers exemples de l'ensemble de test"
   ]
  },
  {
   "cell_type": "code",
   "execution_count": 33,
   "metadata": {
    "colab": {},
    "colab_type": "code",
    "id": "UMVNvQ9yXG00"
   },
   "outputs": [
    {
     "data": {
      "text/html": [
       "<div>\n",
       "<style scoped>\n",
       "    .dataframe tbody tr th:only-of-type {\n",
       "        vertical-align: middle;\n",
       "    }\n",
       "\n",
       "    .dataframe tbody tr th {\n",
       "        vertical-align: top;\n",
       "    }\n",
       "\n",
       "    .dataframe thead th {\n",
       "        text-align: right;\n",
       "    }\n",
       "</style>\n",
       "<table border=\"1\" class=\"dataframe\">\n",
       "  <thead>\n",
       "    <tr style=\"text-align: right;\">\n",
       "      <th></th>\n",
       "      <th>index</th>\n",
       "      <th>Age</th>\n",
       "      <th>Workclass</th>\n",
       "      <th>Final weight</th>\n",
       "      <th>Education</th>\n",
       "      <th>Marital-status</th>\n",
       "      <th>Occupation</th>\n",
       "      <th>Relationship</th>\n",
       "      <th>Sex</th>\n",
       "      <th>Capital-gain</th>\n",
       "      <th>Capital-loss</th>\n",
       "      <th>Hours per week</th>\n",
       "      <th>Native country</th>\n",
       "    </tr>\n",
       "  </thead>\n",
       "  <tbody>\n",
       "    <tr>\n",
       "      <th>0</th>\n",
       "      <td>7762</td>\n",
       "      <td>18</td>\n",
       "      <td>Private</td>\n",
       "      <td>423024.0</td>\n",
       "      <td>HS-grad</td>\n",
       "      <td>Never-married</td>\n",
       "      <td>Other-service</td>\n",
       "      <td>Not-in-family</td>\n",
       "      <td>Male</td>\n",
       "      <td>0.0</td>\n",
       "      <td>0.0</td>\n",
       "      <td>20.0</td>\n",
       "      <td>United-States</td>\n",
       "    </tr>\n",
       "    <tr>\n",
       "      <th>1</th>\n",
       "      <td>23881</td>\n",
       "      <td>17</td>\n",
       "      <td>Private</td>\n",
       "      <td>178953.0</td>\n",
       "      <td>12th</td>\n",
       "      <td>Never-married</td>\n",
       "      <td>Sales</td>\n",
       "      <td>Own-child</td>\n",
       "      <td>Female</td>\n",
       "      <td>0.0</td>\n",
       "      <td>0.0</td>\n",
       "      <td>20.0</td>\n",
       "      <td>United-States</td>\n",
       "    </tr>\n",
       "    <tr>\n",
       "      <th>2</th>\n",
       "      <td>30507</td>\n",
       "      <td>25</td>\n",
       "      <td>Local-gov</td>\n",
       "      <td>348986.0</td>\n",
       "      <td>HS-grad</td>\n",
       "      <td>Never-married</td>\n",
       "      <td>Handlers-cleaners</td>\n",
       "      <td>Other-relative</td>\n",
       "      <td>Male</td>\n",
       "      <td>0.0</td>\n",
       "      <td>0.0</td>\n",
       "      <td>40.0</td>\n",
       "      <td>United-States</td>\n",
       "    </tr>\n",
       "    <tr>\n",
       "      <th>3</th>\n",
       "      <td>28911</td>\n",
       "      <td>20</td>\n",
       "      <td>Private</td>\n",
       "      <td>218215.0</td>\n",
       "      <td>Some-college</td>\n",
       "      <td>Never-married</td>\n",
       "      <td>Sales</td>\n",
       "      <td>Own-child</td>\n",
       "      <td>Female</td>\n",
       "      <td>0.0</td>\n",
       "      <td>0.0</td>\n",
       "      <td>30.0</td>\n",
       "      <td>United-States</td>\n",
       "    </tr>\n",
       "    <tr>\n",
       "      <th>4</th>\n",
       "      <td>19484</td>\n",
       "      <td>47</td>\n",
       "      <td>Private</td>\n",
       "      <td>244025.0</td>\n",
       "      <td>HS-grad</td>\n",
       "      <td>Never-married</td>\n",
       "      <td>Machine-op-inspct</td>\n",
       "      <td>Unmarried</td>\n",
       "      <td>Male</td>\n",
       "      <td>0.0</td>\n",
       "      <td>0.0</td>\n",
       "      <td>56.0</td>\n",
       "      <td>Puerto-Rico</td>\n",
       "    </tr>\n",
       "  </tbody>\n",
       "</table>\n",
       "</div>"
      ],
      "text/plain": [
       "   index  Age   Workclass  Final weight      Education  Marital-status  \\\n",
       "0   7762   18     Private      423024.0        HS-grad   Never-married   \n",
       "1  23881   17     Private      178953.0           12th   Never-married   \n",
       "2  30507   25   Local-gov      348986.0        HS-grad   Never-married   \n",
       "3  28911   20     Private      218215.0   Some-college   Never-married   \n",
       "4  19484   47     Private      244025.0        HS-grad   Never-married   \n",
       "\n",
       "           Occupation     Relationship      Sex  Capital-gain  Capital-loss  \\\n",
       "0       Other-service    Not-in-family     Male           0.0           0.0   \n",
       "1               Sales        Own-child   Female           0.0           0.0   \n",
       "2   Handlers-cleaners   Other-relative     Male           0.0           0.0   \n",
       "3               Sales        Own-child   Female           0.0           0.0   \n",
       "4   Machine-op-inspct        Unmarried     Male           0.0           0.0   \n",
       "\n",
       "   Hours per week  Native country  \n",
       "0            20.0   United-States  \n",
       "1            20.0   United-States  \n",
       "2            40.0   United-States  \n",
       "3            30.0   United-States  \n",
       "4            56.0     Puerto-Rico  "
      ]
     },
     "execution_count": 33,
     "metadata": {},
     "output_type": "execute_result"
    }
   ],
   "source": [
    "X_test.head()"
   ]
  },
  {
   "cell_type": "markdown",
   "metadata": {
    "colab_type": "text",
    "id": "qkm_PxPOXG08"
   },
   "source": [
    "## Travail demandé\n",
    "\n",
    "En vous appuyant sur le tutoriel fourni, vous devez écrire un pipeline complet de transformation pour chacune des colonnes du dataset.\n",
    "\n",
    "Vous êtes **libres** de vos choix, mais vous devez les **justifer** colonne par colonne.\n",
    "Par exemple, vous pouvez choisir de combiner des colonnes entre elles, de séparer une colonne en plusieurs ou encore d'éliminer complètement une colonne si vous le justifiez correctement.\n"
   ]
  },
  {
   "cell_type": "markdown",
   "metadata": {
    "colab_type": "text",
    "id": "HOX3V-pbBNYm"
   },
   "source": [
    "####  2.1 Preprocessing (3 points)\n",
    "\n",
    "Vous devez justifier toutes les transformations que vous faites sur les données pour faciliter l'utilisation des données lors de l'entraînement du modèle. Vous pouvez justifier avec de la logique ou des preuves numériques. **Attention de ne pas tomber dans le piège du overfitting**.\n",
    "\n",
    "**ATTENTION** Vous devez avoir un meilleur score que le baseline pour le classement privé pour avoir votre point au complet pour la partie 2.1. Ce score est une bonne mesure pour savoir si votre traitement est correct.\n",
    "\n",
    "1. Justifier tous les choix de traitements que vous faites ici."
   ]
  },
  {
   "cell_type": "code",
   "execution_count": 34,
   "metadata": {},
   "outputs": [
    {
     "data": {
      "text/html": [
       "<div>\n",
       "<style scoped>\n",
       "    .dataframe tbody tr th:only-of-type {\n",
       "        vertical-align: middle;\n",
       "    }\n",
       "\n",
       "    .dataframe tbody tr th {\n",
       "        vertical-align: top;\n",
       "    }\n",
       "\n",
       "    .dataframe thead th {\n",
       "        text-align: right;\n",
       "    }\n",
       "</style>\n",
       "<table border=\"1\" class=\"dataframe\">\n",
       "  <thead>\n",
       "    <tr style=\"text-align: right;\">\n",
       "      <th></th>\n",
       "      <th>Missing values</th>\n",
       "      <th>% of missing values</th>\n",
       "    </tr>\n",
       "  </thead>\n",
       "  <tbody>\n",
       "    <tr>\n",
       "      <th>Occupation</th>\n",
       "      <td>1873</td>\n",
       "      <td>5.7</td>\n",
       "    </tr>\n",
       "    <tr>\n",
       "      <th>Workclass</th>\n",
       "      <td>1863</td>\n",
       "      <td>5.7</td>\n",
       "    </tr>\n",
       "    <tr>\n",
       "      <th>Native country</th>\n",
       "      <td>580</td>\n",
       "      <td>1.8</td>\n",
       "    </tr>\n",
       "  </tbody>\n",
       "</table>\n",
       "</div>"
      ],
      "text/plain": [
       "                Missing values  % of missing values\n",
       "Occupation                1873                  5.7\n",
       "Workclass                 1863                  5.7\n",
       "Native country             580                  1.8"
      ]
     },
     "metadata": {},
     "output_type": "display_data"
    }
   ],
   "source": [
    "def generate_missing_value_table(df):\n",
    "        value = df.isnull().sum()\n",
    "        value_percentage = 100 * df.isnull().sum() / len(df)\n",
    "        table = pd.concat([value, value_percentage], axis=1)\n",
    "        \n",
    "        # rename the original table\n",
    "        renamed_table = table.rename(columns = {0 : \"Missing values\", 1 : \"% of missing values\"})\n",
    "        renamed_table = renamed_table[renamed_table.iloc[:,1] != 0].sort_values(\"% of missing values\", ascending=False).round(1)\n",
    "        \n",
    "        return renamed_table\n",
    "\n",
    "X_train_NaN = X_train.replace(\" \",np.nan)\n",
    "X_train_NaN = X_train.replace(\" ?\",np.nan)\n",
    "# Finding all missing values\n",
    "missing_values_table = generate_missing_value_table(X_train_NaN)\n",
    "\n",
    "display(missing_values_table)"
   ]
  },
  {
   "cell_type": "markdown",
   "metadata": {},
   "source": [
    "On remarque que 3 colonnes possèdent des données manquantes avec un proportion faible. Nous avons décidé de remplacer les données manquantes par une variable unknown. "
   ]
  },
  {
   "cell_type": "code",
   "execution_count": 35,
   "metadata": {},
   "outputs": [],
   "source": [
    "X_train_NaN[\"Occupation\"] = X_train_NaN[\"Occupation\"].replace(np.nan,\" Unknown_occ\")\n",
    "X_train_NaN[\"Workclass\"] = X_train_NaN[\"Workclass\"].replace(np.nan,\" Unknown_wc\")\n",
    "X_train_NaN[\"Native country\"] = X_train_NaN[\"Native country\"].replace(np.nan,\" Unknown_nc\")"
   ]
  },
  {
   "cell_type": "code",
   "execution_count": 36,
   "metadata": {},
   "outputs": [
    {
     "data": {
      "image/png": "[encoded data removed]",
      "text/plain": [
       "<Figure size 432x288 with 1 Axes>"
      ]
     },
     "metadata": {
      "needs_background": "light"
     },
     "output_type": "display_data"
    },
    {
     "data": {
      "image/png": "[encoded data removed]",
      "text/plain": [
       "<Figure size 432x288 with 1 Axes>"
      ]
     },
     "metadata": {
      "needs_background": "light"
     },
     "output_type": "display_data"
    },
    {
     "data": {
      "image/png": "[encoded data removed]",
      "text/plain": [
       "<Figure size 432x288 with 1 Axes>"
      ]
     },
     "metadata": {
      "needs_background": "light"
     },
     "output_type": "display_data"
    },
    {
     "data": {
      "image/png": "[encoded data removed]",
      "text/plain": [
       "<Figure size 432x288 with 1 Axes>"
      ]
     },
     "metadata": {
      "needs_background": "light"
     },
     "output_type": "display_data"
    },
    {
     "data": {
      "image/png": "[encoded data removed]",
      "text/plain": [
       "<Figure size 432x288 with 1 Axes>"
      ]
     },
     "metadata": {
      "needs_background": "light"
     },
     "output_type": "display_data"
    }
   ],
   "source": [
    "pd.options.mode.chained_assignment = None\n",
    "\n",
    "# On change l'income en valeurs binaires\n",
    "income_dict = {\n",
    "                \" <=50K\" : 0,\n",
    "                \" <=50K.\" : 0,\n",
    "                \" >50K\" : 1,\n",
    "                \" >50K.\" : 1,\n",
    "                }\n",
    "X_train_NaN = X_train_NaN.replace({\"Income\": income_dict})\n",
    "\n",
    "# On retire l'indexe et le \"Final weight\", car ils sont non pertinents\n",
    "X_train_NaN.drop([\"index\",\"Final weight\"], axis = 1, inplace = True)\n",
    "\n",
    "# Age\n",
    "X_train_NaN[\"Age\"][X_train_NaN[\"Age\"]<20] = 20\n",
    "X_train_NaN[\"Age\"][X_train_NaN[\"Age\"]>65] = 65\n",
    "X_train_NaN[\"Age\"] = np.digitize(X_train_NaN[\"Age\"],np.arange(20,65,5)) - 1\n",
    "\n",
    "#Worclass\n",
    "a=pd.get_dummies(X_train_NaN[\"Workclass\"])\n",
    "X_train_NaN = pd.concat([X_train_NaN,a],axis = 1).drop([\"Workclass\"],axis = 1)\n",
    "\n",
    "# Éducation\n",
    "X_train_NaN.groupby(['Education','Income']).size().unstack().plot(kind='bar',stacked=True,title = 'Graphe du salaire en fonction du niveau d''éducation')\n",
    "\n",
    "education_dict = {\n",
    "                \" HS-grad\" : 1,\n",
    "                \" Some-college\" : 3,\n",
    "                \" Bachelors\" : 4,\n",
    "                \" Masters\" : 5,\n",
    "                \" Assoc-voc\" : 2,\n",
    "                \" 11th\" : 0,\n",
    "                \" Assoc-acdm\" : 2,\n",
    "                \" 10th\" : 0,\n",
    "                \" 7th-8th\" : 0,\n",
    "                \" Prof-school\" : 6,\n",
    "                \" 9th\" : 0,\n",
    "                \" 12th\" : 0,\n",
    "                \" Doctorate\" : 7,\n",
    "                \" 5th-6th\" : 0,\n",
    "                \" 1st-4th\" : 0,\n",
    "                \" Preschool\" : 0\n",
    "                }\n",
    "X_train_NaN['Education'] = X_train_NaN['Education'].map(education_dict)\n",
    "\n",
    "# Marital-status\n",
    "X_train_NaN[\"Marital-status\"].value_counts()\n",
    "X_train_NaN.groupby(['Marital-status','Income']).size().unstack().plot(kind='bar',stacked=True,title='Graphe du salaire en fonction du niveau du statut marital')\n",
    "marital_dict = {\n",
    "                \" Married-civ-spouse\" : 'Married',\n",
    "                \" Never-married\" : 'Not Married',\n",
    "                \" Divorced\" : 'Not Married',\n",
    "                \" Separated\" : 'Not Married',\n",
    "                \" Widowed\" : 'Not Married',\n",
    "                \" Married-spouse-absent\" : 'Married',\n",
    "                \" Married-AF-spouse\" : 'Married',\n",
    "                }\n",
    "X_train_NaN['Marital-status'] = X_train_NaN['Marital-status'].map(marital_dict)\n",
    "a=pd.get_dummies(X_train_NaN['Marital-status'])\n",
    "X_train_NaN = pd.concat([X_train_NaN,a],axis = 1).drop(['Marital-status'],axis = 1)\n",
    "\n",
    "\n",
    "# Occupation\n",
    "X_train_NaN.groupby(['Occupation','Income']).size().unstack().plot(kind='bar',stacked=True,title='Graphe du salaire en fonction du niveau de l''occupation')\n",
    "a=pd.get_dummies(X_train_NaN['Occupation'])\n",
    "X_train_NaN = pd.concat([X_train_NaN,a],axis = 1).drop(['Occupation'],axis = 1)\n",
    "\n",
    "\n",
    "# Relationship\n",
    "X_train_NaN.groupby(['Relationship','Income']).size().unstack().plot(kind='bar',stacked=True,title='Graphe du salaire en fonction de la relation')\n",
    "a=pd.get_dummies(X_train_NaN['Relationship'])\n",
    "X_train_NaN = pd.concat([X_train_NaN,a],axis = 1).drop(['Relationship'],axis = 1)\n",
    "\n",
    "\n",
    "# Sex\n",
    "X_train_NaN.groupby(['Sex','Income']).size().unstack().plot(kind='bar',stacked=True,title='Graphe du salaire en fonction du sexe')\n",
    "education_dict = {\n",
    "                \" Male\" : 1,\n",
    "                \" Female\" : 0,\n",
    "                }\n",
    "X_train_NaN['Sex'] = X_train_NaN['Sex'].map(education_dict)\n",
    "\n",
    "\n",
    "#Capital gain/loss\n",
    "X_train_NaN['Capital-gain'][X_train_NaN['Capital-gain'] < 5100] = 0\n",
    "X_train_NaN['Capital-gain'][X_train_NaN['Capital-gain'] >= 5100] = 1\n",
    "X_train_NaN['Capital-loss'][X_train_NaN['Capital-loss'] > 0] = -1\n",
    "X_train_NaN['Capital-loss'] += 1\n",
    "\n",
    "#Hours\n",
    "X_train_NaN[\"Hours per week\"][X_train_NaN[\"Hours per week\"] < 35] = 0\n",
    "X_train_NaN['Hours per week'][(X_train_NaN['Hours per week'] < 45) & (X_train_NaN['Hours per week'] >= 35)] = 1\n",
    "X_train_NaN['Hours per week'][X_train_NaN['Hours per week'] >= 45] = 2\n",
    "\n",
    "#Country\n",
    "country_dict = {\n",
    " ' United-States':'N_america',\n",
    " ' Mexico':'S_america'     ,                 \n",
    " ' Philippines':'Asia',\n",
    " ' Germany':'Europe',\n",
    " ' Puerto-Rico':'S_america',\n",
    " ' Canada':'N_america',\n",
    " ' India':'Asia',\n",
    " ' Cuba':'S_america',\n",
    " ' El-Salvador':'S_america',\n",
    " ' China':'Asia',                \n",
    " ' South':'S_america',                  \n",
    " ' Italy':'Europe',                     \n",
    " ' England':'Europe',\n",
    " ' Jamaica':'S_america', \n",
    " ' Dominican-Republic':'S_america',\n",
    " ' Guatemala':'S_america', \n",
    " ' Japan'  : 'Asia',                            \n",
    " ' Columbia' : 'S_america',                         \n",
    " ' Vietnam' : 'Asia',\n",
    " ' Poland' : 'Europe',\n",
    " ' Portugal' : 'Europe',\n",
    " ' Haiti' : 'S_america',\n",
    " ' Taiwan' : 'Asia',\n",
    " ' Greece' : 'Europe',\n",
    " ' Iran' : 'Asia',\n",
    " ' Nicaragua' : 'S_america',\n",
    " ' Peru' : 'S_america',\n",
    " ' Ireland': 'Europe',\n",
    " ' Ecuador' : 'S_america',\n",
    " ' Thailand' : 'Asia',\n",
    " ' France' : 'Europe',\n",
    " ' Cambodia' : 'Asia',\n",
    " ' Hong': 'Asia',\n",
    " ' Hungary' : 'Europe',\n",
    " ' Trinadad&Tobago' : 'Africa',\n",
    " ' Yugoslavia' : 'Europe',\n",
    " ' Laos' : 'Asia',\n",
    " ' Scotland' : 'Europe',                         \n",
    " ' Outlying-US(Guam-USVI-etc)': 'S_america',\n",
    " ' Honduras' : 'S_america',\n",
    "                }\n",
    "X_train_NaN['Native country'] = X_train_NaN['Native country'].map(country_dict)\n",
    "a=pd.get_dummies(X_train_NaN['Native country'])\n",
    "X_train_NaN = pd.concat([X_train_NaN,a],axis = 1).drop(['Native country'],axis = 1)\n",
    "\n",
    "#Normalisation\n",
    "X_train = X_train_NaN / X_train_NaN.max()\n"
   ]
  },
  {
   "cell_type": "markdown",
   "metadata": {},
   "source": [
    "Colonne(s) | Traitement | Justification |\n",
    " :---: | :---: | :---: |\n",
    " Index | On l'enlève complètement. | Pas significatif pour l'analyse |\n",
    " Final Weight | On l'enlève complètement. | Pas significatif pour l'analyse |\n",
    " Âge | Pour âge < 20 : Mise à 20 ;Pour âge > 65 mise à 65; Pour âge [20,65] : regroupement par tranche de 5 et numérisation de chaque groupe avec un chiffre allant de 0 à 7(nombre de groupes-1).| Généralement le salaire augmente avec l'âge, mais à des différences de tranche de 5 ans, ce n'est pas significatif. On a considéré que pour les âges inférieurs à 20, ils auraient sensiblement le même salaire. Cela vaut de même pour les âges > à 65| \n",
    " Workclass | One-hot encoding | Ce sont des variables qui ne peuvent pas être gradées, raison pour laquelle un traitement one-hot encoding a été effectué. Puisqu'il n'y avait que 8 valeurs différentes, aucun regroupement n'a été effectué.  | \n",
    " Education | Nous avons groupé et numérisé. | Puisque les valeurs peuvent être graduées, nous avons effectué une numérisation. Nous avons regroupé les degrés d'éducation relativement similaire (voir graphique).| \n",
    " Marital status| On avons groupé et effectué un one-hot encoding| Nous avons groupé les status en deux catégories car ces 2 groupes présentaient la plus grande différence de salaire (voir grahique)|\n",
    " Occupation | On a effectué un one-hot encoding.| Nous avons fait du one-hot encoding car ce sont des valeurs nominales (on ne peut les grader). Aucun regroupement n'a été fait car tous les rapports haut revenu/bas revenu étaient différents (voir graphique) |\n",
    " Relationship | On a effectué un one-hot encoding.  | Les valeurs sont nominales (on ne peut les grader).Aucun regroupement n'a été fait car tous les rapports haut revenu/bas revenu étaient différents (voir graphique) | \n",
    " Sex | Binarisation des valeurs| Il n'y a que deux groupes différents|\n",
    " Capital-gain | Groupées en deux et binarisées | En inspectant les données, au délà d'une certaine valeur, la proportion de haut revenu était plus grande. Étant donné qu'il n'y avait que 2 groupes, les données ont été binarisées|\n",
    " Capital-loss | Groupées et binarisées| En inspectant les données, au dessous d'une certaine valeur, la proportion de bas revenu était plus grande. Étant donné qu'il n'y avait que 2 groupes, les données ont été binarisées|\n",
    " Hours | Groupées en trois (0-35, 35-45, >45) et numérisées|Étant donné que généralement, le salaire augmente avec le nombre d'heures travaillées, une numérisation des variables a pu être effectuée. Les valeurs ont été groupées pour avoir une plus grande différence de salaire. |\n",
    " Native Contry | Groupés par continent et one-hot encoding| One-hot encoding car les valeurs sont nominales (non gradables). Ils sont groupés en régions similaires|\n",
    " Income | Groupés en deux et binarisés (<=50K et >=50K) | Regroupement par tranches de salaire et étant donné qu'il n'y a que 2 tranches, seulement une binarisation est effectuée.|"
   ]
  },
  {
   "cell_type": "markdown",
   "metadata": {
    "colab_type": "text",
    "id": "jZWQoaa2XG1Z"
   },
   "source": [
    "# 3. Model selection (2 points)"
   ]
  },
  {
   "cell_type": "markdown",
   "metadata": {
    "colab_type": "text",
    "id": "JxwJyM9gXG1Z"
   },
   "source": [
    "Encodage de la classe cible sous forme d'entiers pour l'utiliser\n",
    "avec les algorithmes de scikit-learn. Vous devez avoir 2 classes."
   ]
  },
  {
   "cell_type": "code",
   "execution_count": 37,
   "metadata": {
    "colab": {},
    "colab_type": "code",
    "id": "mXfDgss4XG1a"
   },
   "outputs": [
    {
     "name": "stdout",
     "output_type": "stream",
     "text": [
      "[0. 1.]\n"
     ]
    }
   ],
   "source": [
    "from sklearn.preprocessing import LabelEncoder\n",
    "y_train = X_train['Income']\n",
    "X_train = X_train.drop('Income',axis=1)\n",
    "target_label = LabelEncoder()\n",
    "y_train_label = target_label.fit_transform(y_train)\n",
    "print(target_label.classes_)"
   ]
  },
  {
   "cell_type": "markdown",
   "metadata": {
    "colab_type": "text",
    "id": "5ekhKj0cXG1e"
   },
   "source": [
    "## 3.1 Ensemble de validation (0.5 point)\n",
    "Pour comparer différents modèles entre eux, on ne peut pas utiliser\n",
    "l'ensemble de test, sinon on serait tenté de garder le modèle correspondant le mieux à l'ensemble de test ce qui pourrait conduire à l'overfitting.\n",
    "\n",
    "Il est d'usage de créer un nouvel ensemble de la taille de l'ensemble de test, l'ensemble de **validation**.\n",
    "\n",
    "###  Cross-validation\n",
    "\n",
    "La cross-validation est une méthode utile pour comparer la performance de différents modèles de machine learning **sans créer d'ensemble de validation**.\n",
    "\n",
    "Il existe différents types de cross-validation, la procédure la plus classique est la suivante:\n",
    "* Diviser aléatoirement l'ensemble d'entraînement en deux parties (90%/10% par exemple).\n",
    "* Entraîner le modèle sur la plus grande partie, et le tester sur l'autre partie.\n",
    "* Recommencer n fois\n",
    "* Calculer la moyenne et l'écart type des résultats\n",
    "\n",
    "Les avantages sont les suivants:\n",
    "* Considérer la totalité de l'ensemble d'entraînement pour l'évaluation (sans se priver de l'ensemble de validation)\n",
    "* Obtenir l'écart-type des résultats permet une meilleure évaluation de la précision du modèle.\n",
    "\n",
    "L'inconvénient principal est le temps de calcul, étant donné que l'on effectue l'apprentissage du modèle plusieurs fois, cette méthode peut être impossible pour des datasets contenant un grand nombre d'exemple (> 10e5)\n",
    "\n",
    "### Implémentation\n",
    "1. Implémenter la fonction `compare()`. Cette fonction effectue la crossvalidation pour différents modèles et retourne la moyenne et l'écart-type des métriques pour chaque modèle.\n",
    "\n"
   ]
  },
  {
   "cell_type": "code",
   "execution_count": 38,
   "metadata": {
    "colab": {},
    "colab_type": "code",
    "id": "WF3S-utAXG1k"
   },
   "outputs": [],
   "source": [
    "from sklearn.model_selection import cross_validate\n",
    "def compare(models,X_train,y_train,nb_runs,scoring):\n",
    "    \n",
    "    scores = []\n",
    "    for i in models:\n",
    "        scores.append(cross_validate(i, X_train, y_train, cv=nb_runs, scoring = scoring))\n",
    "    \n",
    "    return scores"
   ]
  },
  {
   "cell_type": "markdown",
   "metadata": {
    "colab_type": "text",
    "id": "GMqcqhGxXG1j"
   },
   "source": [
    "## 3.2 Essai de modèle de sklearn (0.5 point)\n",
    "\n",
    "\n",
    "**Choisir au moins deux modèles permettant la classification binaire sur sklearn en plus du modèle implémenté dans la première partie du TP**.\n",
    "\n",
    "**En vous basant sur les différentes métriques retournées par la fonction `compare()`, concluez quant au modèle le plus performant.**\n",
    "\n",
    "Evaluez les modèles pour les différentes métriques proposées:\n",
    "* **log loss**: c'est la métrique d'évaluation de kaggle\n",
    "* **precision**: correspond à la qualité de la prédiction, le nombre de classes correctement prédites par le nombre de prédiction total\n",
    "* **recall**: le nombre d'éléments appartenant à une classe, identifiés comme tel, divisé par le nombre total des éléments de cette classe.\n",
    "* **f-score**: une moyenne de la precision et du recall\n",
    "\n",
    "**Remarque: precision et recall sont deux mesures complémentaires pour l'évaluation d'un modèle de classification.**\n",
    "\n",
    "Dans le cas d'une classification binaire avec un déséquilibre de la classe cible important, (90%/10%), en évaluant le résultat de la classification avec l'accuracy (nombre de prédictions correctes divisé par le nombre de prédictions total), on peut obtenir un très bon score (90% d'accuracy) en choisissant de prédire systématiquement la classe majoritaire.\n",
    "\n",
    "Dans un tel cas, la precision serait élevée de même, mais le recall serait très bas , nous indiquant la médiocrité de notre modèle.\n"
   ]
  },
  {
   "cell_type": "code",
   "execution_count": 43,
   "metadata": {
    "colab": {},
    "colab_type": "code",
    "id": "gSsKSE6cXG1n"
   },
   "outputs": [
    {
     "data": {
      "text/html": [
       "<div>\n",
       "<style scoped>\n",
       "    .dataframe tbody tr th:only-of-type {\n",
       "        vertical-align: middle;\n",
       "    }\n",
       "\n",
       "    .dataframe tbody tr th {\n",
       "        vertical-align: top;\n",
       "    }\n",
       "\n",
       "    .dataframe thead th {\n",
       "        text-align: right;\n",
       "    }\n",
       "</style>\n",
       "<table border=\"1\" class=\"dataframe\">\n",
       "  <thead>\n",
       "    <tr style=\"text-align: right;\">\n",
       "      <th></th>\n",
       "      <th>Moyenne</th>\n",
       "      <th>STD</th>\n",
       "    </tr>\n",
       "  </thead>\n",
       "  <tbody>\n",
       "    <tr>\n",
       "      <th>SoftmaxClassifier</th>\n",
       "      <td>0.775845</td>\n",
       "      <td>0.001587</td>\n",
       "    </tr>\n",
       "    <tr>\n",
       "      <th>RandomForest</th>\n",
       "      <td>0.771300</td>\n",
       "      <td>0.003527</td>\n",
       "    </tr>\n",
       "    <tr>\n",
       "      <th>GradientBoosting</th>\n",
       "      <td>0.785366</td>\n",
       "      <td>0.000655</td>\n",
       "    </tr>\n",
       "  </tbody>\n",
       "</table>\n",
       "</div>"
      ],
      "text/plain": [
       "                    Moyenne       STD\n",
       "SoftmaxClassifier  0.775845  0.001587\n",
       "RandomForest       0.771300  0.003527\n",
       "GradientBoosting   0.785366  0.000655"
      ]
     },
     "metadata": {},
     "output_type": "display_data"
    }
   ],
   "source": [
    "from sklearn.ensemble import RandomForestClassifier\n",
    "from sklearn.ensemble import GradientBoostingClassifier\n",
    "from sklearn import svm\n",
    "\n",
    "X_train_preprocess = np.array(X_train)\n",
    "\n",
    "nb_run = 3\n",
    "\n",
    "models = [\n",
    "    SoftmaxClassifier(),\n",
    "    RandomForestClassifier(n_estimators = 100),\n",
    "    GradientBoostingClassifier(),\n",
    "]\n",
    "\n",
    "scoring = ['neg_log_loss', 'precision_macro','recall_macro','f1_macro']\n",
    "\n",
    "score = compare(models,X_train_preprocess,y_train_label,nb_run,scoring[3])\n",
    "\n",
    "Score_dataframe = np.zeros((3,2))\n",
    "for i in range(len(score)):\n",
    "    Score_dataframe[i,0] = score[i]['test_score'].mean()\n",
    "    Score_dataframe[i,1] = score[i]['test_score'].std()\n",
    "\n",
    "Score_dataframe = pd.DataFrame(Score_dataframe)\n",
    "Score_dataframe.columns = ['Moyenne','STD']\n",
    "Score_dataframe.index = ['SoftmaxClassifier','RandomForest','GradientBoosting']\n",
    "display(Score_dataframe)"
   ]
  },
  {
   "cell_type": "markdown",
   "metadata": {
    "colab_type": "text",
    "id": "kutzIhLu1frH"
   },
   "source": [
    "**Justifications**\n",
    "\n"
   ]
  },
  {
   "cell_type": "markdown",
   "metadata": {
    "colab_type": "text",
    "id": "_th8iyQ2XG1u"
   },
   "source": [
    "## 3.3 Matrice de confusion (0.5 point)\n",
    "\n",
    "La matrice de confusion A est telle que $A_{i,j}$ correspond au nombre d'exemples de la classe i classifié comme appartenant à la classe j.\n",
    "\n",
    "Entrainez le modèle sélectionné sur la totalité de l'ensemble d'entraînement.\n",
    "A l'aide de la matrice de confusion et de la distribution des classes, analysez plus en détail les performances du modèle choisi et **justifiez** les."
   ]
  },
  {
   "cell_type": "code",
   "execution_count": 44,
   "metadata": {
    "colab": {},
    "colab_type": "code",
    "id": "k_jCDj02XG1v"
   },
   "outputs": [],
   "source": [
    "# Train selected model\n",
    "\n",
    "selected_model = SoftmaxClassifier()\n",
    "y_pred = selected_model.fit_predict(X_train_preprocess,y_train_label)"
   ]
  },
  {
   "cell_type": "markdown",
   "metadata": {
    "colab_type": "text",
    "id": "ncXnd9W4XG1-"
   },
   "source": [
    "###### Matrice de confusion"
   ]
  },
  {
   "cell_type": "code",
   "execution_count": 45,
   "metadata": {
    "colab": {},
    "colab_type": "code",
    "id": "fV5tkE0bXG1_"
   },
   "outputs": [
    {
     "data": {
      "text/html": [
       "<div>\n",
       "<style scoped>\n",
       "    .dataframe tbody tr th:only-of-type {\n",
       "        vertical-align: middle;\n",
       "    }\n",
       "\n",
       "    .dataframe tbody tr th {\n",
       "        vertical-align: top;\n",
       "    }\n",
       "\n",
       "    .dataframe thead th {\n",
       "        text-align: right;\n",
       "    }\n",
       "</style>\n",
       "<table border=\"1\" class=\"dataframe\">\n",
       "  <thead>\n",
       "    <tr style=\"text-align: right;\">\n",
       "      <th></th>\n",
       "      <th>0.0</th>\n",
       "      <th>1.0</th>\n",
       "    </tr>\n",
       "  </thead>\n",
       "  <tbody>\n",
       "    <tr>\n",
       "      <th>0.0</th>\n",
       "      <td>23451</td>\n",
       "      <td>1498</td>\n",
       "    </tr>\n",
       "    <tr>\n",
       "      <th>1.0</th>\n",
       "      <td>3342</td>\n",
       "      <td>4432</td>\n",
       "    </tr>\n",
       "  </tbody>\n",
       "</table>\n",
       "</div>"
      ],
      "text/plain": [
       "       0.0   1.0\n",
       "0.0  23451  1498\n",
       "1.0   3342  4432"
      ]
     },
     "execution_count": 45,
     "metadata": {},
     "output_type": "execute_result"
    }
   ],
   "source": [
    "from sklearn.metrics import confusion_matrix\n",
    "pd.DataFrame(confusion_matrix(y_train_label, y_pred), columns = target_label.classes_, index = target_label.classes_)"
   ]
  },
  {
   "cell_type": "markdown",
   "metadata": {
    "colab_type": "text",
    "id": "2HyBqtMjXG2B"
   },
   "source": [
    "###### Distribution des classes"
   ]
  },
  {
   "cell_type": "code",
   "execution_count": 46,
   "metadata": {
    "colab": {},
    "colab_type": "code",
    "id": "Z_emYEYKXG2B"
   },
   "outputs": [
    {
     "name": "stdout",
     "output_type": "stream",
     "text": [
      "[0. 1.]\n"
     ]
    },
    {
     "data": {
      "text/plain": [
       "<matplotlib.axes._subplots.AxesSubplot at 0x1a28307be0>"
      ]
     },
     "execution_count": 46,
     "metadata": {},
     "output_type": "execute_result"
    },
    {
     "data": {
      "image/png": "[encoded data removed]",
      "text/plain": [
       "<Figure size 432x288 with 1 Axes>"
      ]
     },
     "metadata": {
      "needs_background": "light"
     },
     "output_type": "display_data"
    }
   ],
   "source": [
    "import matplotlib.pyplot as plt \n",
    "print(target_label.classes_)\n",
    "pd.Series(y_train_label).hist()"
   ]
  },
  {
   "cell_type": "markdown",
   "metadata": {
    "colab_type": "text",
    "id": "ee-L7b131tf3"
   },
   "source": [
    "***Justifications***\n",
    "\n",
    "On se rend compte que la classe 1 est beaucoup moins peuplée que la classe 0. Il y a donc un débalancement qui peut affecter le training. En l'occurence c'est le cas car on observe une performance inférieure pour prédire la classe 1 vs la classe 0 dans la matrice de confusion. Il y a plus d'erreurs dans la case inférieure gauche (classe réelle 1, prédiction 0) que dans la case haut droite (classe réelle 0, prédiction 1). "
   ]
  },
  {
   "cell_type": "markdown",
   "metadata": {
    "colab_type": "text",
    "id": "5lfReUdgXG2I"
   },
   "source": [
    "## 3.4 Soumission (0.5 point)\n",
    "\n",
    "Enfin, effectuez la prédiction sur l'ensemble de test et joignez les résultats au rendu du TP. Vous devez soumettre vos résultats sur kaggle. Vous pouvez choisir jusqu'à deux modèles. Par défaut, les deux dernières soumissions sont prises. La justification (les section 3.2 et 3.3) sont seulement demandée pour le meilleur modèle selon vous.\n",
    "\n",
    "**ATTENTION:** N'oubliez pas de respecter le format du fichier de soumission. En cas d'erreur, Kaggle score 0.0 pour la soumission."
   ]
  },
  {
   "cell_type": "code",
   "execution_count": 0,
   "metadata": {
    "colab": {},
    "colab_type": "code",
    "id": "-deVgNIpXG2J"
   },
   "outputs": [],
   "source": [
    "# best_model_1 = \n",
    "# pred_test = pd.Series(best_model_1.transform(X_test_preprocess))\n",
    "# pred_test.to_csv(\"test_prediction_1.csv\",index = False)\n",
    "\n",
    "# best_model_2 = \n",
    "# pred_test = pd.Series(best_model_2.transform(X_test_preprocess))\n",
    "# pred_test.to_csv(\"test_prediction_2.csv\",index = False)"
   ]
  }
 ],
 "metadata": {
  "colab": {
   "collapsed_sections": [],
   "name": "TP3_INF8215.ipynb",
   "provenance": [],
   "toc_visible": true
  },
  "kernelspec": {
   "display_name": "Python 3",
   "language": "python",
   "name": "python3"
  },
  "language_info": {
   "codemirror_mode": {
    "name": "ipython",
    "version": 3
   },
   "file_extension": ".py",
   "mimetype": "text/x-python",
   "name": "python",
   "nbconvert_exporter": "python",
   "pygments_lexer": "ipython3",
   "version": "3.7.3"
  }
 },
 "nbformat": 4,
 "nbformat_minor": 1
}
